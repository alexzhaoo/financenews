{
 "cells": [
  {
   "cell_type": "code",
   "execution_count": 14,
   "metadata": {},
   "outputs": [],
   "source": [
    "import re\n",
    "import pandas as pd\n",
    "from transformers import AutoTokenizer, AutoModel\n",
    "import torch\n",
    "\n",
    "\n",
    "\n",
    "def tokenization(inputpath):\n",
    "\n",
    "    df = pd.read_csv(inputpath)\n",
    "\n",
    "    df['sentence'] = df['sentence'].astype(str)\n",
    "\n",
    "    tokenizer = AutoTokenizer.from_pretrained(\"yiyanghkust/finbert-tone\")\n",
    "    model = AutoModel.from_pretrained(\"yiyanghkust/finbert-tone\")\n",
    "\n",
    "    tokens = tokenizer(df['sentence'].tolist(), padding=True, truncation=True, return_tensors=\"pt\")\n",
    "\n",
    "    with torch.no_grad():\n",
    "        embeddings = model(**tokens).last_hidden_state.mean(dim=1) \n",
    "\n",
    "\n",
    "    return embeddings\n",
    "\n",
    "\n"
   ]
  },
  {
   "cell_type": "code",
   "execution_count": 15,
   "metadata": {},
   "outputs": [],
   "source": [
    "import csv\n",
    "import re\n",
    "\n",
    "def txt_to_csv(input_txt_path, output_csv_path):\n",
    "    with open(input_txt_path, 'r') as file:\n",
    "        text = file.read()\n",
    "    \n",
    "    # Split text by sentences\n",
    "    sentences = re.split(r'(?<=[.!?]) +', text)\n",
    "    \n",
    "    # Remove commas from sentences\n",
    "    sentences = [sentence.replace(',', '') for sentence in sentences]\n",
    "    \n",
    "    # Write sentences to CSV\n",
    "    with open(output_csv_path, 'w', newline='') as csvfile:\n",
    "        writer = csv.writer(csvfile)\n",
    "        writer.writerow(['sentence'])\n",
    "        for sentence in sentences:\n",
    "            writer.writerow([sentence])\n",
    "\n",
    "txt_to_csv('text.txt', 'output.csv')"
   ]
  },
  {
   "cell_type": "code",
   "execution_count": null,
   "metadata": {},
   "outputs": [
    {
     "name": "stderr",
     "output_type": "stream",
     "text": [
      "/var/folders/34/4m3rx1zd32dgvl3g8t313g900000gn/T/ipykernel_46791/3544532574.py:14: FutureWarning: DataFrame.applymap has been deprecated. Use DataFrame.map instead.\n",
      "  df = df.applymap(lambda x: x.lower() if isinstance(x, str) else x)\n",
      "/var/folders/34/4m3rx1zd32dgvl3g8t313g900000gn/T/ipykernel_46791/3544532574.py:16: FutureWarning: DataFrame.applymap has been deprecated. Use DataFrame.map instead.\n",
      "  df = df.applymap(lambda x: ' '.join([word for word in x.split() if word not in stop_words]) if isinstance(x, str) else x)\n",
      "Asking to truncate to max_length but no maximum length is provided and the model has no predefined maximum length. Default to no truncation.\n"
     ]
    }
   ],
   "source": [
    "import re\n",
    "import pandas as pd\n",
    "from transformers import AutoTokenizer, AutoModel\n",
    "import torch\n",
    "import nltk\n",
    "from nltk.corpus import stopwords\n",
    "\n",
    "\n",
    "def cleaning(inputpath, outputpath):\n",
    "\n",
    "    df = pd.read_csv(inputpath)\n",
    "\n",
    "    df.iloc[:, 0] = df.iloc[:, 0].apply(lambda x: re.sub(r'[^A-Za-z0-9 ]+', '', str(x)) if pd.notnull(x) else '')\n",
    "    df = df.applymap(lambda x: x.lower() if isinstance(x, str) else x)\n",
    "    stop_words = set(stopwords.words('english'))\n",
    "    df = df.applymap(lambda x: ' '.join([word for word in x.split() if word not in stop_words]) if isinstance(x, str) else x)\n",
    "\n",
    "\n",
    "    tokenizer = AutoTokenizer.from_pretrained(\"yiyanghkust/finbert-tone\")\n",
    "    model = AutoModel.from_pretrained(\"yiyanghkust/finbert-tone\")\n",
    "    tokens = tokenizer(df['sentence'].tolist(), padding=True, truncation=True, return_tensors=\"pt\")\n",
    "    df.to_csv(outputpath, index=False)\n",
    "\n",
    "cleaning('output.csv', 'output_cleaned.csv')"
   ]
  },
  {
   "cell_type": "code",
   "execution_count": 17,
   "metadata": {},
   "outputs": [],
   "source": [
    "import torch\n",
    "class ANNs(torch.nn.Module):\n",
    "    def __init__(self):\n",
    "        super(ANNs,self).__init__()\n",
    "        self.fc2 = torch.nn.Linear(768, 512)\n",
    "        self.fc3 = torch.nn.Linear(512, 256)\n",
    "        self.fc4 = torch.nn.Linear(256, 2)\n",
    "\n",
    "    def forward(self, x):\n",
    "        x = torch.relu(self.fc2(x))\n",
    "        x = torch.relu(self.fc3(x))\n",
    "        x = self.fc4(x)\n",
    "\n",
    "        return x\n",
    "    "
   ]
  },
  {
   "cell_type": "code",
   "execution_count": 19,
   "metadata": {},
   "outputs": [
    {
     "name": "stderr",
     "output_type": "stream",
     "text": [
      "/var/folders/34/4m3rx1zd32dgvl3g8t313g900000gn/T/ipykernel_46791/2666761575.py:7: FutureWarning: You are using `torch.load` with `weights_only=False` (the current default value), which uses the default pickle module implicitly. It is possible to construct malicious pickle data which will execute arbitrary code during unpickling (See https://github.com/pytorch/pytorch/blob/main/SECURITY.md#untrusted-models for more details). In a future release, the default value for `weights_only` will be flipped to `True`. This limits the functions that could be executed during unpickling. Arbitrary objects will no longer be allowed to be loaded via this mode unless they are explicitly allowlisted by the user via `torch.serialization.add_safe_globals`. We recommend you start setting `weights_only=True` for any use case where you don't have full control of the loaded file. Please open an issue on GitHub for any issues related to this experimental feature.\n",
      "  network.load_state_dict(torch.load('../nlpmodel/best_model.pth'))\n",
      "Asking to truncate to max_length but no maximum length is provided and the model has no predefined maximum length. Default to no truncation.\n"
     ]
    },
    {
     "name": "stdout",
     "output_type": "stream",
     "text": [
      "[1 1 1 1 1 0 1 0]\n"
     ]
    }
   ],
   "source": [
    "from sklearn.metrics import accuracy_score, confusion_matrix, classification_report\n",
    "import matplotlib.pyplot as plt\n",
    "import seaborn as sns\n",
    "\n",
    "network = ANNs()\n",
    "\n",
    "network.load_state_dict(torch.load('../nlpmodel/best_model.pth'))\n",
    "\n",
    "network.eval()\n",
    "\n",
    "embeddings = tokenization('output.csv')\n",
    "\n",
    "with torch.no_grad():\n",
    "    predictions = network(embeddings).argmax(dim=1).cpu().numpy()\n",
    "    print(predictions)\n"
   ]
  }
 ],
 "metadata": {
  "kernelspec": {
   "display_name": ".venv",
   "language": "python",
   "name": "python3"
  },
  "language_info": {
   "codemirror_mode": {
    "name": "ipython",
    "version": 3
   },
   "file_extension": ".py",
   "mimetype": "text/x-python",
   "name": "python",
   "nbconvert_exporter": "python",
   "pygments_lexer": "ipython3",
   "version": "3.10.7"
  }
 },
 "nbformat": 4,
 "nbformat_minor": 2
}
