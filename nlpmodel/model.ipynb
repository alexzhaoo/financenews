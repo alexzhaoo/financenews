{
 "cells": [
  {
   "cell_type": "markdown",
   "metadata": {},
   "source": [
    "# Tokenization"
   ]
  },
  {
   "cell_type": "code",
   "execution_count": 7,
   "metadata": {},
   "outputs": [
    {
     "name": "stderr",
     "output_type": "stream",
     "text": [
      "/Users/alex/VSCodeProjects/financenews/.venv/lib/python3.10/site-packages/tqdm/auto.py:21: TqdmWarning: IProgress not found. Please update jupyter and ipywidgets. See https://ipywidgets.readthedocs.io/en/stable/user_install.html\n",
      "  from .autonotebook import tqdm as notebook_tqdm\n"
     ]
    }
   ],
   "source": [
    "import re\n",
    "import pandas as pd\n",
    "from transformers import AutoTokenizer, AutoModel\n",
    "import torch\n",
    "\n",
    "\n",
    "\n",
    "def tokenization(inputpath):\n",
    "\n",
    "    df = pd.read_csv(inputpath)\n",
    "\n",
    "    df['sentence'] = df['sentence'].astype(str)\n",
    "\n",
    "    tokenizer = AutoTokenizer.from_pretrained(\"yiyanghkust/finbert-tone\")\n",
    "    model = AutoModel.from_pretrained(\"yiyanghkust/finbert-tone\")\n",
    "\n",
    "    tokens = tokenizer(df['sentence'].tolist(), padding=True, truncation=True, return_tensors=\"pt\")\n",
    "\n",
    "    with torch.no_grad():\n",
    "        embeddings = model(**tokens).last_hidden_state.mean(dim=1) \n",
    "\n",
    "    labels = torch.tensor(df['Label'])\n",
    "\n",
    "    return embeddings, labels\n",
    "\n",
    "\n"
   ]
  },
  {
   "cell_type": "markdown",
   "metadata": {},
   "source": [
    "# Splitting Data"
   ]
  },
  {
   "cell_type": "code",
   "execution_count": 8,
   "metadata": {},
   "outputs": [
    {
     "name": "stderr",
     "output_type": "stream",
     "text": [
      "Asking to truncate to max_length but no maximum length is provided and the model has no predefined maximum length. Default to no truncation.\n"
     ]
    }
   ],
   "source": [
    "import re\n",
    "import pandas as pd\n",
    "from transformers import AutoTokenizer, AutoModel\n",
    "import torch\n",
    "from torch.utils.data import DataLoader, TensorDataset\n",
    "from sklearn.model_selection import train_test_split\n",
    "\n",
    "def prepare_data(inputpath, batch_size=32):\n",
    "    embeddings, labels = tokenization(inputpath)\n",
    "    X = embeddings.numpy()\n",
    "    y = labels.numpy()\n",
    "\n",
    "    X_train_val, X_test, y_train_val, y_test = train_test_split(X, y, test_size=0.2, random_state=42)\n",
    "\n",
    "    X_train, X_val, y_train, y_val = train_test_split(X_train_val, y_train_val, test_size=0.25, random_state=42)\n",
    "\n",
    "\n",
    "    train_dataset = TensorDataset(torch.tensor(X_train), torch.tensor(y_train))\n",
    "    val_dataset = TensorDataset(torch.tensor(X_val), torch.tensor(y_val))\n",
    "    test_dataset = TensorDataset(torch.tensor(X_test), torch.tensor(y_test))\n",
    "\n",
    "    train_loader = DataLoader(train_dataset, batch_size=batch_size, shuffle=True)\n",
    "    val_loader = DataLoader(val_dataset, batch_size=batch_size, shuffle=False)\n",
    "    test_loader = DataLoader(test_dataset, batch_size=batch_size, shuffle=False)\n",
    "\n",
    "    return train_loader, val_loader, test_loader\n",
    "\n",
    "train_loader, val_loader, test_loader = prepare_data('../cleaning/concatenated.csv', batch_size=32)"
   ]
  },
  {
   "cell_type": "markdown",
   "metadata": {},
   "source": [
    "# Model"
   ]
  },
  {
   "cell_type": "code",
   "execution_count": 9,
   "metadata": {},
   "outputs": [],
   "source": [
    "import torch\n",
    "class ANNs(torch.nn.Module):\n",
    "    def __init__(self):\n",
    "        super(ANNs,self).__init__()\n",
    "        self.fc2 = torch.nn.Linear(768, 512)\n",
    "        self.fc3 = torch.nn.Linear(512, 256)\n",
    "        self.fc4 = torch.nn.Linear(256, 2)\n",
    "\n",
    "    def forward(self, x):\n",
    "        x = torch.relu(self.fc2(x))\n",
    "        x = torch.relu(self.fc3(x))\n",
    "        x = self.fc4(x)\n",
    "\n",
    "        return x\n",
    "    "
   ]
  },
  {
   "cell_type": "code",
   "execution_count": 10,
   "metadata": {},
   "outputs": [
    {
     "name": "stdout",
     "output_type": "stream",
     "text": [
      "Epoch 0, Loss 0.09012452937803767\n",
      "Validation Loss: 0.08211206459591902\n",
      "Epoch 1, Loss 0.04542673005232969\n",
      "Validation Loss: 0.059064797661808686\n",
      "Epoch 2, Loss 0.03267662562901983\n",
      "Validation Loss: 0.0714992263752339\n",
      "Epoch 3, Loss 0.026618885079638915\n",
      "Validation Loss: 0.05757966011269884\n",
      "Epoch 4, Loss 0.018894685912153892\n",
      "Validation Loss: 0.07063217638845577\n",
      "Epoch 5, Loss 0.018223535225671206\n",
      "Validation Loss: 0.07717579339027167\n",
      "Epoch 6, Loss 0.011876637122691673\n",
      "Validation Loss: 0.07152804315088826\n",
      "Epoch 7, Loss 0.004092796227789086\n",
      "Validation Loss: 0.11451662822523123\n",
      "Epoch 8, Loss 0.007036541269592022\n",
      "Validation Loss: 0.0737126810881184\n",
      "Epoch 9, Loss 0.018108211217713208\n",
      "Validation Loss: 0.10129724857495942\n",
      "Epoch 10, Loss 0.011995023166898\n",
      "Validation Loss: 0.0906099046782359\n",
      "Epoch 11, Loss 0.001005739915363958\n",
      "Validation Loss: 0.10925267401370452\n",
      "Epoch 12, Loss 7.195826183117368e-05\n",
      "Validation Loss: 0.11421981607221107\n",
      "Epoch 13, Loss 5.3422180846071094e-05\n",
      "Validation Loss: 0.11466434938675156\n",
      "Early stopping\n"
     ]
    }
   ],
   "source": [
    "ANN = ANNs()\n",
    "criterion = torch.nn.CrossEntropyLoss()\n",
    "optimizer = torch.optim.Adam(ANN.parameters(), lr=0.001, weight_decay=0.0001)\n",
    "best_val_loss = float('inf')\n",
    "early_stopping_counter = 0\n",
    "\n",
    "def trainclassifier(classifier, train_loader, val_loader, epochs=100):\n",
    "    global best_val_loss\n",
    "    global early_stopping_counter\n",
    "\n",
    "    classifier.train()\n",
    "\n",
    "    for epoch in range(epochs):\n",
    "        running_loss = 0.0\n",
    "        for inputs, labels in train_loader:\n",
    "            inputs = inputs.float()\n",
    "            labels = labels.long()\n",
    "\n",
    "            optimizer.zero_grad()\n",
    "\n",
    "            outputs = classifier(inputs)\n",
    "            loss = criterion(outputs, labels)\n",
    "            loss.backward()\n",
    "            optimizer.step()\n",
    "\n",
    "            running_loss += loss.item()\n",
    "\n",
    "        epoch_loss = running_loss / len(train_loader)\n",
    "        print('Epoch {}, Loss {}'.format(epoch, epoch_loss))\n",
    "\n",
    "        classifier.eval()\n",
    "        val_loss = 0.0\n",
    "\n",
    "        with torch.no_grad():\n",
    "            for inputs, labels in val_loader:\n",
    "                inputs = inputs.float()\n",
    "                labels = labels.long()\n",
    "\n",
    "                outputs = classifier(inputs)\n",
    "                loss = criterion(outputs, labels)\n",
    "\n",
    "                val_loss += loss.item()\n",
    "\n",
    "        val_loss = val_loss / len(val_loader)\n",
    "        print('Validation Loss: {}'.format(val_loss))\n",
    "\n",
    "        if val_loss < best_val_loss:\n",
    "            best_val_loss = val_loss\n",
    "            early_stopping_counter = 0\n",
    "            torch.save(classifier.state_dict(), 'best_model.pth')\n",
    "        else:\n",
    "            early_stopping_counter += 1\n",
    "            if early_stopping_counter >= 10:\n",
    "                print(\"Early stopping\")\n",
    "                break\n",
    "\n",
    "trainclassifier(ANN, train_loader, val_loader)\n"
   ]
  },
  {
   "cell_type": "code",
   "execution_count": 11,
   "metadata": {},
   "outputs": [
    {
     "name": "stdout",
     "output_type": "stream",
     "text": [
      "Accuracy: 0.9844213649851632\n"
     ]
    },
    {
     "name": "stderr",
     "output_type": "stream",
     "text": [
      "/var/folders/34/4m3rx1zd32dgvl3g8t313g900000gn/T/ipykernel_11565/2900073222.py:7: FutureWarning: You are using `torch.load` with `weights_only=False` (the current default value), which uses the default pickle module implicitly. It is possible to construct malicious pickle data which will execute arbitrary code during unpickling (See https://github.com/pytorch/pytorch/blob/main/SECURITY.md#untrusted-models for more details). In a future release, the default value for `weights_only` will be flipped to `True`. This limits the functions that could be executed during unpickling. Arbitrary objects will no longer be allowed to be loaded via this mode unless they are explicitly allowlisted by the user via `torch.serialization.add_safe_globals`. We recommend you start setting `weights_only=True` for any use case where you don't have full control of the loaded file. Please open an issue on GitHub for any issues related to this experimental feature.\n",
      "  network.load_state_dict(torch.load('best_model.pth'))\n"
     ]
    },
    {
     "data": {
      "image/png": "[encoded data removed]",
      "text/plain": [
       "<Figure size 1000x800 with 2 Axes>"
      ]
     },
     "metadata": {},
     "output_type": "display_data"
    }
   ],
   "source": [
    "from sklearn.metrics import accuracy_score, confusion_matrix, classification_report\n",
    "import matplotlib.pyplot as plt\n",
    "import seaborn as sns\n",
    "\n",
    "network = ANNs()\n",
    "\n",
    "network.load_state_dict(torch.load('best_model.pth'))\n",
    "\n",
    "network.eval()\n",
    "\n",
    "\n",
    "def evaluate(classifier, test_loader):\n",
    "    classifier.eval()\n",
    "\n",
    "    all_labels = []\n",
    "    all_predictions = []\n",
    "\n",
    "    with torch.no_grad():\n",
    "        for inputs , labels in test_loader:\n",
    "            inputs = inputs.float()\n",
    "            labels = labels.long()\n",
    "\n",
    "            outputs = classifier(inputs)\n",
    "            _, predicted = torch.max(outputs, 1)\n",
    "\n",
    "\n",
    "            all_labels.extend(labels.cpu().numpy())\n",
    "            all_predictions.extend(predicted.cpu().numpy())\n",
    "\n",
    "    accuracy = accuracy_score(all_labels, all_predictions)\n",
    "    print('Accuracy: {}'.format(accuracy))\n",
    "    confusion = confusion_matrix(all_labels, all_predictions)\n",
    "    plt.figure(figsize=(10, 8))\n",
    "    sns.heatmap(confusion, annot=True, fmt='d', cmap='Blues')\n",
    "    plt.xlabel('Predicted')\n",
    "    plt.ylabel('Actual')\n",
    "    plt.show()\n",
    "\n",
    "evaluate(network, test_loader)\n"
   ]
  }
 ],
 "metadata": {
  "kernelspec": {
   "display_name": ".venv",
   "language": "python",
   "name": "python3"
  },
  "language_info": {
   "codemirror_mode": {
    "name": "ipython",
    "version": 3
   },
   "file_extension": ".py",
   "mimetype": "text/x-python",
   "name": "python",
   "nbconvert_exporter": "python",
   "pygments_lexer": "ipython3",
   "version": "3.10.7"
  }
 },
 "nbformat": 4,
 "nbformat_minor": 2
}
